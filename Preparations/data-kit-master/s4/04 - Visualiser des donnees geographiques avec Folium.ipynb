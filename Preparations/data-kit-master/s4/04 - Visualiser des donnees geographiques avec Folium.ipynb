{
 "cells": [
  {
   "cell_type": "markdown",
   "metadata": {},
   "source": [
    "# Visualiser des données géographiques avec la librairie Folium"
   ]
  },
  {
   "cell_type": "markdown",
   "metadata": {},
   "source": [
    "Pouvoir représenter une carte est souvent une composante essentielle d'une analyse de données. \n",
    "\n",
    "La librairie **Folium** permet de créer facilement des cartes interactives. Vous pouvez en lire plus sur la documentation officielle - https://www.pypi.python.org/pypi/folium\n",
    "\n",
    "Dans cette partie, vous verrez : \n",
    "\n",
    "- Comment intégrer une carte interactive au sein de l'environnement iPython\n",
    "- Comment tracer des points à partir d\"un DataFrame \n",
    "- Comment tracer des zones, en utilisant des repères TopoJSON"
   ]
  },
  {
   "cell_type": "markdown",
   "metadata": {},
   "source": [
    "## Créer des cartes et des repères"
   ]
  },
  {
   "cell_type": "markdown",
   "metadata": {},
   "source": [
    "Installez la librairie folium depuis votre terminal grâce à pip : "
   ]
  },
  {
   "cell_type": "code",
   "execution_count": null,
   "metadata": {
    "collapsed": false
   },
   "outputs": [],
   "source": [
    "pip install folium"
   ]
  },
  {
   "cell_type": "markdown",
   "metadata": {},
   "source": [
    "Nous importons tout d'abord la librairie folium ainsi que le module HTML de iPython :"
   ]
  },
  {
   "cell_type": "code",
   "execution_count": null,
   "metadata": {
    "collapsed": false
   },
   "outputs": [],
   "source": [
    "import folium\n",
    "from IPython.display import HTML"
   ]
  },
  {
   "cell_type": "markdown",
   "metadata": {},
   "source": [
    "Nous définissons ensuite une fonction **inline_map** qui renvoie un iframe HTML pouvant s'intégrer au sein de notre document iPython"
   ]
  },
  {
   "cell_type": "code",
   "execution_count": null,
   "metadata": {
    "collapsed": false
   },
   "outputs": [],
   "source": [
    "def inline_map(map):\n",
    "    map._build_map()\n",
    "    return HTML('<iframe srcdoc=\"{srcdoc}\" style=\"width: 100%; height: 510px; border: none\"></iframe>'.format(srcdoc=map.HTML.replace('\"', '&quot;')))"
   ]
  },
  {
   "cell_type": "markdown",
   "metadata": {},
   "source": [
    "Nous définissons les paramètres d'affichage de notre carte en précisant son centre et le zoom à utiliser :"
   ]
  },
  {
   "cell_type": "code",
   "execution_count": null,
   "metadata": {
    "collapsed": false
   },
   "outputs": [],
   "source": [
    "map = folium.Map(location=[48.8655909,2.378983], zoom_start=6)"
   ]
  },
  {
   "cell_type": "markdown",
   "metadata": {},
   "source": [
    "Nous pouvons enfin lancer appeler la fonction **inline_map** qui affiche notre carte. "
   ]
  },
  {
   "cell_type": "code",
   "execution_count": null,
   "metadata": {
    "collapsed": false
   },
   "outputs": [],
   "source": [
    "inline_map(map)"
   ]
  },
  {
   "cell_type": "markdown",
   "metadata": {},
   "source": [
    "Nous pouvons ajouter un repère grâce à la méthode de l'objet map, **simple_marker**. \n",
    "\n",
    "Nous pouvons également utiliser la méthode **circle_marker** pour créer des cercles. "
   ]
  },
  {
   "cell_type": "code",
   "execution_count": null,
   "metadata": {
    "collapsed": false
   },
   "outputs": [],
   "source": [
    "map.simple_marker([48.89157,2.24099])\n",
    "map.circle_marker([47.87967,1.90812])\n",
    "\n",
    "inline_map(map)"
   ]
  },
  {
   "cell_type": "markdown",
   "metadata": {},
   "source": [
    "Nous pouvons enfin ajouter du contenu au sein de la pop up des marqueurs que nous avons créé, en passant un chaine de caractère au sein de la méthode **popup**"
   ]
  },
  {
   "cell_type": "code",
   "execution_count": null,
   "metadata": {
    "collapsed": false
   },
   "outputs": [],
   "source": [
    "map.simple_marker([47.87967,1.90812],popup=\"Bravo ! Vous avez ajouté une pop up.\")\n",
    "inline_map(map)"
   ]
  },
  {
   "cell_type": "markdown",
   "metadata": {},
   "source": [
    "## Créer des repères à partir d'un DataFrame"
   ]
  },
  {
   "cell_type": "markdown",
   "metadata": {},
   "source": [
    "Nous pouvons donc appliquer la même méthode à partir de données issues d'un DataFrame. \n",
    "\n",
    "Nous pouvons par exemple afficher une carte de France des emplacements des restaurants McDonalds. "
   ]
  },
  {
   "cell_type": "markdown",
   "metadata": {},
   "source": [
    "Nous importons pandas : "
   ]
  },
  {
   "cell_type": "code",
   "execution_count": null,
   "metadata": {
    "collapsed": false
   },
   "outputs": [],
   "source": [
    "import pandas as pd"
   ]
  },
  {
   "cell_type": "markdown",
   "metadata": {},
   "source": [
    "Nous chargeons le fichier McDonalds_Fr. Celui-ci contient les latitudes, longitudes et nom de tous les McDonalds de France : "
   ]
  },
  {
   "cell_type": "code",
   "execution_count": null,
   "metadata": {
    "collapsed": false
   },
   "outputs": [],
   "source": [
    "mcdo = pd.read_csv(\"data/McDonalds_Fr.csv\",encoding='latin-1')\n",
    "mcdo.head(3)"
   ]
  },
  {
   "cell_type": "code",
   "execution_count": null,
   "metadata": {
    "collapsed": false
   },
   "outputs": [],
   "source": [
    "mcdo.count()"
   ]
  },
  {
   "cell_type": "markdown",
   "metadata": {},
   "source": [
    "Comme précédemment, nous déclarons une carte Folium : "
   ]
  },
  {
   "cell_type": "code",
   "execution_count": null,
   "metadata": {
    "collapsed": false
   },
   "outputs": [],
   "source": [
    "map_mcdo = folium.Map(location=[48.8655909,2.378983], zoom_start=6, tiles='Stamen Toner')"
   ]
  },
  {
   "cell_type": "markdown",
   "metadata": {},
   "source": [
    "Nous réalisons une boucle à partir des valeurs de notre DataFrame :"
   ]
  },
  {
   "cell_type": "code",
   "execution_count": null,
   "metadata": {
    "collapsed": false
   },
   "outputs": [],
   "source": [
    "for x in mcdo.values:\n",
    "    location = []\n",
    "    location.append(x[1])\n",
    "    location.append(x[0])\n",
    "    map_mcdo.circle_marker(location,radius=4,fill_color='red',popup=x[2])"
   ]
  },
  {
   "cell_type": "markdown",
   "metadata": {},
   "source": [
    "Nous appelons enfin la méthode **inline_map** pour afficher notre carte : "
   ]
  },
  {
   "cell_type": "code",
   "execution_count": null,
   "metadata": {
    "collapsed": false
   },
   "outputs": [],
   "source": [
    "inline_map(map_mcdo)"
   ]
  },
  {
   "cell_type": "markdown",
   "metadata": {},
   "source": [
    "## Créer des zones géographiques à partir de pandas et des fichiers GeoJSON"
   ]
  },
  {
   "cell_type": "markdown",
   "metadata": {},
   "source": [
    "Folium vous permet également de créer vos propres polygônes géographiques en se basant sur les standard TopoJSON / GeoJSON. Comme leur nom l'indique, ces fichiers sont des fichiers JSON décrivant les frontières d'une zone géographique à tracer. \n",
    "\n",
    "Il existe de nombreuses ressources en ligne permettant de récupérer des fichiers TopoJSON existant ou de construire les siens. \n",
    "\n",
    "Nous prendrons dans cet exemple des fichiers issus de ce repo GitHub - https://github.com/gregoiredavid/france-geojson où sont disponibles les communes, les départements et les régions. "
   ]
  },
  {
   "cell_type": "markdown",
   "metadata": {},
   "source": [
    "Nous allons dans cet exemple, réaliser une carte du taux de chômage en France, par département. "
   ]
  },
  {
   "cell_type": "markdown",
   "metadata": {},
   "source": [
    "La méthode **GeoJSON** permet d'afficher une zone géographique sur une carte. Il suffit dans ce cas de passer en argument le fichier TopoJSON source : "
   ]
  },
  {
   "cell_type": "code",
   "execution_count": null,
   "metadata": {
    "collapsed": false
   },
   "outputs": [],
   "source": [
    "map_departement = folium.Map(location=[48,2], zoom_start=3)\n",
    "\n",
    "map_departement.geo_json(geo_path=\"data/departements.json\")"
   ]
  },
  {
   "cell_type": "code",
   "execution_count": null,
   "metadata": {
    "collapsed": false
   },
   "outputs": [],
   "source": [
    "inline_map(map_departement)"
   ]
  },
  {
   "cell_type": "markdown",
   "metadata": {},
   "source": [
    "L'une des fonctionnalités assez sympa de Folium est la possibilité de s'interfacer avec un DataFrame Pandas. Voyez plutôt : "
   ]
  },
  {
   "cell_type": "markdown",
   "metadata": {},
   "source": [
    "Nous créons un DataFrame **dep_data** à partir des données de chômage dont nous disposons :"
   ]
  },
  {
   "cell_type": "code",
   "execution_count": null,
   "metadata": {
    "collapsed": false
   },
   "outputs": [],
   "source": [
    "dep_data = pd.read_csv('data/dep_chomage.csv')"
   ]
  },
  {
   "cell_type": "code",
   "execution_count": null,
   "metadata": {
    "collapsed": false
   },
   "outputs": [],
   "source": [
    "dep_data.head()"
   ]
  },
  {
   "cell_type": "markdown",
   "metadata": {},
   "source": [
    "Nous créons ensuite notre objet map_chomage en spécifiant nos paramètres :"
   ]
  },
  {
   "cell_type": "code",
   "execution_count": null,
   "metadata": {
    "collapsed": false
   },
   "outputs": [],
   "source": [
    "map_chomage = folium.Map(location=[48,2], zoom_start=3)"
   ]
  },
  {
   "cell_type": "markdown",
   "metadata": {},
   "source": [
    "Nous réalisons ensuite le binding entre les données de notre DataFrame et nos départements. \n",
    "\n",
    "Plusieurs éléments sont à noter: \n",
    "    \n",
    "- Nous sélectionnons au sein de **column**, deux colonnes. La première doit présenter une clé commune avec notre fichier TopoJSON\n",
    "- Le paramètre **key_on** précise la clé à utiliser, au sein du fichier TopoJSON pour lier nos données.  "
   ]
  },
  {
   "cell_type": "code",
   "execution_count": null,
   "metadata": {
    "collapsed": false
   },
   "outputs": [],
   "source": [
    "map_chomage.geo_json(geo_path=\"data/departements.json\", data=dep_data,\n",
    "             columns=['CODE_DEPT', 'TAUX_CHOMAGE'],\n",
    "             key_on='feature.properties.code',\n",
    "             fill_color='YlGn', fill_opacity=0.7, line_opacity=0.2,\n",
    "             legend_name='Unemployment Rate (%)')"
   ]
  },
  {
   "cell_type": "markdown",
   "metadata": {},
   "source": [
    "Nous pouvons enfin exporter le résultat grâce à la méthode **create_map** "
   ]
  },
  {
   "cell_type": "code",
   "execution_count": null,
   "metadata": {
    "collapsed": false
   },
   "outputs": [],
   "source": [
    "map_chomage.create_map(path='map_chomage.html')"
   ]
  },
  {
   "cell_type": "markdown",
   "metadata": {},
   "source": [
    "Pour pouvoir visualiser le résultat, il vous faudra lancer un serveur local, grâce à la commande : "
   ]
  },
  {
   "cell_type": "code",
   "execution_count": null,
   "metadata": {
    "collapsed": false
   },
   "outputs": [],
   "source": [
    "python -m SimpleHTTPServer 8000"
   ]
  }
 ],
 "metadata": {
  "kernelspec": {
   "display_name": "Python 2",
   "language": "python",
   "name": "python2"
  },
  "language_info": {
   "codemirror_mode": {
    "name": "ipython",
    "version": 2
   },
   "file_extension": ".py",
   "mimetype": "text/x-python",
   "name": "python",
   "nbconvert_exporter": "python",
   "pygments_lexer": "ipython2",
   "version": "2.7.9"
  }
 },
 "nbformat": 4,
 "nbformat_minor": 0
}
